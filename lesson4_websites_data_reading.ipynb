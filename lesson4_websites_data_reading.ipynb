{
 "cells": [
  {
   "cell_type": "code",
   "execution_count": 1,
   "metadata": {},
   "outputs": [],
   "source": [
    "import pandas as pd"
   ]
  },
  {
   "cell_type": "code",
   "execution_count": 6,
   "metadata": {},
   "outputs": [],
   "source": [
    "URL = \"https://ru.wikipedia.org/wiki/%D0%A1%D0%BF%D0%B8%D1%81%D0%BE%D0%BA_%D1%81%D1%82%D0%B0%D0%BD%D1%86%D0%B8%D0%B9_%D0%9C%D0%BE%D1%81%D0%BA%D0%BE%D0%B2%D1%81%D0%BA%D0%BE%D0%B3%D0%BE_%D0%BC%D0%B5%D1%82%D1%80%D0%BE%D0%BF%D0%BE%D0%BB%D0%B8%D1%82%D0%B5%D0%BD%D0%B0\""
   ]
  },
  {
   "cell_type": "code",
   "execution_count": 45,
   "metadata": {},
   "outputs": [],
   "source": [
    "data = pd.read_html(URL, attrs={'class': 'standard'}, header=0)"
   ]
  },
  {
   "cell_type": "code",
   "execution_count": 47,
   "metadata": {},
   "outputs": [
    {
     "data": {
      "text/plain": [
       "3"
      ]
     },
     "execution_count": 47,
     "metadata": {},
     "output_type": "execute_result"
    }
   ],
   "source": [
    "len(data)"
   ]
  },
  {
   "cell_type": "code",
   "execution_count": 50,
   "metadata": {
    "scrolled": true
   },
   "outputs": [
    {
     "data": {
      "text/html": [
       "<div>\n",
       "<style scoped>\n",
       "    .dataframe tbody tr th:only-of-type {\n",
       "        vertical-align: middle;\n",
       "    }\n",
       "\n",
       "    .dataframe tbody tr th {\n",
       "        vertical-align: top;\n",
       "    }\n",
       "\n",
       "    .dataframe thead th {\n",
       "        text-align: right;\n",
       "    }\n",
       "</style>\n",
       "<table border=\"1\" class=\"dataframe\">\n",
       "  <thead>\n",
       "    <tr style=\"text-align: right;\">\n",
       "      <th></th>\n",
       "      <th>Unnamed: 0</th>\n",
       "      <th>Название станцииПрежние названия</th>\n",
       "      <th>Датаоткрытия</th>\n",
       "      <th>Пере-садки</th>\n",
       "      <th>Глубина,м[2]</th>\n",
       "      <th>Тип конструкции</th>\n",
       "      <th>Координаты</th>\n",
       "      <th>Вид станции</th>\n",
       "    </tr>\n",
       "  </thead>\n",
       "  <tbody>\n",
       "    <tr>\n",
       "      <th>0</th>\n",
       "      <td>NaN</td>\n",
       "      <td>Бульвар РокоссовскогоУлица Подбельского (до 2014)</td>\n",
       "      <td>1 августа 1990</td>\n",
       "      <td>NaN</td>\n",
       "      <td>−8</td>\n",
       "      <td>колоннаямелкого заложениятрёхпролётная</td>\n",
       "      <td>55°48′53″ с. ш. 37°44′03″ в. д.HЯ</td>\n",
       "      <td>NaN</td>\n",
       "    </tr>\n",
       "    <tr>\n",
       "      <th>1</th>\n",
       "      <td>NaN</td>\n",
       "      <td>Черкизовская</td>\n",
       "      <td>1 августа 1990</td>\n",
       "      <td>NaN</td>\n",
       "      <td>−9</td>\n",
       "      <td>односводчатаямелкого заложения</td>\n",
       "      <td>55°48′14″ с. ш. 37°44′41″ в. д.HЯ</td>\n",
       "      <td>NaN</td>\n",
       "    </tr>\n",
       "    <tr>\n",
       "      <th>2</th>\n",
       "      <td>NaN</td>\n",
       "      <td>Преображенская площадь</td>\n",
       "      <td>31 декабря 1965</td>\n",
       "      <td>NaN</td>\n",
       "      <td>−8</td>\n",
       "      <td>колоннаямелкого заложениятрёхпролётная</td>\n",
       "      <td>55°47′47″ с. ш. 37°42′54″ в. д.HЯ</td>\n",
       "      <td>NaN</td>\n",
       "    </tr>\n",
       "    <tr>\n",
       "      <th>3</th>\n",
       "      <td>NaN</td>\n",
       "      <td>Сокольники</td>\n",
       "      <td>15 мая 1935</td>\n",
       "      <td>NaN</td>\n",
       "      <td>−9</td>\n",
       "      <td>колоннаямелкого заложениятрёхпролётная</td>\n",
       "      <td>55°47′20″ с. ш. 37°40′49″ в. д.HЯ</td>\n",
       "      <td>NaN</td>\n",
       "    </tr>\n",
       "    <tr>\n",
       "      <th>4</th>\n",
       "      <td>NaN</td>\n",
       "      <td>Красносельская</td>\n",
       "      <td>15 мая 1935</td>\n",
       "      <td>NaN</td>\n",
       "      <td>−8</td>\n",
       "      <td>колоннаямелкого заложениядвухпролётная</td>\n",
       "      <td>55°46′48″ с. ш. 37°40′02″ в. д.HЯ</td>\n",
       "      <td>NaN</td>\n",
       "    </tr>\n",
       "  </tbody>\n",
       "</table>\n",
       "</div>"
      ],
      "text/plain": [
       "   Unnamed: 0                   Название станцииПрежние названия  \\\n",
       "0         NaN  Бульвар РокоссовскогоУлица Подбельского (до 2014)   \n",
       "1         NaN                                       Черкизовская   \n",
       "2         NaN                             Преображенская площадь   \n",
       "3         NaN                                         Сокольники   \n",
       "4         NaN                                     Красносельская   \n",
       "\n",
       "      Датаоткрытия  Пере-садки Глубина,м[2]  \\\n",
       "0   1 августа 1990         NaN           −8   \n",
       "1   1 августа 1990         NaN           −9   \n",
       "2  31 декабря 1965         NaN           −8   \n",
       "3      15 мая 1935         NaN           −9   \n",
       "4      15 мая 1935         NaN           −8   \n",
       "\n",
       "                          Тип конструкции                         Координаты  \\\n",
       "0  колоннаямелкого заложениятрёхпролётная  55°48′53″ с. ш. 37°44′03″ в. д.HЯ   \n",
       "1          односводчатаямелкого заложения  55°48′14″ с. ш. 37°44′41″ в. д.HЯ   \n",
       "2  колоннаямелкого заложениятрёхпролётная  55°47′47″ с. ш. 37°42′54″ в. д.HЯ   \n",
       "3  колоннаямелкого заложениятрёхпролётная  55°47′20″ с. ш. 37°40′49″ в. д.HЯ   \n",
       "4  колоннаямелкого заложениядвухпролётная  55°46′48″ с. ш. 37°40′02″ в. д.HЯ   \n",
       "\n",
       "   Вид станции  \n",
       "0          NaN  \n",
       "1          NaN  \n",
       "2          NaN  \n",
       "3          NaN  \n",
       "4          NaN  "
      ]
     },
     "execution_count": 50,
     "metadata": {},
     "output_type": "execute_result"
    }
   ],
   "source": [
    "data[0].head()"
   ]
  },
  {
   "cell_type": "code",
   "execution_count": null,
   "metadata": {},
   "outputs": [],
   "source": []
  }
 ],
 "metadata": {
  "kernelspec": {
   "display_name": "Python 3",
   "language": "python",
   "name": "python3"
  },
  "language_info": {
   "codemirror_mode": {
    "name": "ipython",
    "version": 3
   },
   "file_extension": ".py",
   "mimetype": "text/x-python",
   "name": "python",
   "nbconvert_exporter": "python",
   "pygments_lexer": "ipython3",
   "version": "3.7.2"
  }
 },
 "nbformat": 4,
 "nbformat_minor": 2
}
